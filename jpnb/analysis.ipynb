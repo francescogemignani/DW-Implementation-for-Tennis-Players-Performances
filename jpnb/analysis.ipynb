{
 "cells": [
  {
   "cell_type": "code",
   "execution_count": 1,
   "id": "5df6a671-5a06-4c4c-966d-eb941bc48cae",
   "metadata": {},
   "outputs": [],
   "source": [
    "import pandas as pd\n",
    "import numpy as np\n",
    "from constants import *\n",
    "from utils import scopeStrLength"
   ]
  },
  {
   "cell_type": "code",
   "execution_count": 2,
   "id": "46196b4c-ef00-4b4c-b36f-619047bd51bf",
   "metadata": {},
   "outputs": [],
   "source": [
    "pd.set_option('display.max_columns', None)\n",
    "#pd.set_option(\"display.max_rows\", None)"
   ]
  },
  {
   "cell_type": "code",
   "execution_count": 3,
   "id": "ee10d9d0-a885-48a2-9e06-f6bfb078eb1a",
   "metadata": {},
   "outputs": [],
   "source": [
    "match = pd.read_csv(PATH_TAB_MATCH)\n",
    "tourn = pd.read_csv(PATH_TAB_TOURNAMENT)\n",
    "date = pd.read_csv(PATH_TAB_DATE)\n",
    "player = pd.read_csv(PATH_TAB_PLAYER)\n",
    "geo = pd.read_csv(PATH_TAB_GEO)"
   ]
  },
  {
   "cell_type": "markdown",
   "id": "ca1de9ce-92bb-41a8-a6df-0dcb4b2eb826",
   "metadata": {},
   "source": [
    "# DATA CLEANING\n",
    "- Stats\n",
    "- Handle Missing Values (replace)"
   ]
  },
  {
   "cell_type": "code",
   "execution_count": 4,
   "id": "79aee643-7fff-45c6-b045-8d89f754fa70",
   "metadata": {},
   "outputs": [
    {
     "name": "stdout",
     "output_type": "stream",
     "text": [
      "**********\n",
      "** TABs **\n",
      "**********\n",
      "Match: (161817, 30)\n",
      "Tournament: (4910, 8)\n",
      "Date: (375, 5)\n",
      "Player: (10074, 7)\n",
      "Geography: (154, 3)\n"
     ]
    }
   ],
   "source": [
    "print(\"**********\\n** TABs **\\n**********\")\n",
    "print(f\"Match: {match.shape}\")\n",
    "print(f\"Tournament: {tourn.shape}\")\n",
    "print(f\"Date: {date.shape}\")\n",
    "print(f\"Player: {player.shape}\")\n",
    "print(f\"Geography: {geo.shape}\")"
   ]
  },
  {
   "cell_type": "markdown",
   "id": "b745fa26-73aa-482a-99f0-5b8ccb2b1333",
   "metadata": {},
   "source": [
    "### Date Tab\n",
    "La table non presenta ne valori anomali ne missin values. La chiave primaria contiene tutte le date dal 2016 al 2021. Gli altri attributi sono stati derivati dalla chiave e quindi sono regolari."
   ]
  },
  {
   "cell_type": "code",
   "execution_count": 5,
   "id": "ed3f1c04-acd1-4eb0-8fbd-dd98d2dbc881",
   "metadata": {},
   "outputs": [
    {
     "data": {
      "text/plain": [
       "(375, 5)"
      ]
     },
     "execution_count": 5,
     "metadata": {},
     "output_type": "execute_result"
    }
   ],
   "source": [
    "date.shape"
   ]
  },
  {
   "cell_type": "code",
   "execution_count": 6,
   "id": "510e991e-d28e-4fa8-80ac-df5422c0f6e2",
   "metadata": {},
   "outputs": [
    {
     "data": {
      "text/html": [
       "<div>\n",
       "<style scoped>\n",
       "    .dataframe tbody tr th:only-of-type {\n",
       "        vertical-align: middle;\n",
       "    }\n",
       "\n",
       "    .dataframe tbody tr th {\n",
       "        vertical-align: top;\n",
       "    }\n",
       "\n",
       "    .dataframe thead th {\n",
       "        text-align: right;\n",
       "    }\n",
       "</style>\n",
       "<table border=\"1\" class=\"dataframe\">\n",
       "  <thead>\n",
       "    <tr style=\"text-align: right;\">\n",
       "      <th></th>\n",
       "      <th>date_id</th>\n",
       "      <th>day</th>\n",
       "      <th>month</th>\n",
       "      <th>year</th>\n",
       "      <th>quarter</th>\n",
       "    </tr>\n",
       "  </thead>\n",
       "  <tbody>\n",
       "    <tr>\n",
       "      <th>0</th>\n",
       "      <td>20181231</td>\n",
       "      <td>31</td>\n",
       "      <td>12</td>\n",
       "      <td>2018</td>\n",
       "      <td>4</td>\n",
       "    </tr>\n",
       "    <tr>\n",
       "      <th>1</th>\n",
       "      <td>20190107</td>\n",
       "      <td>7</td>\n",
       "      <td>1</td>\n",
       "      <td>2019</td>\n",
       "      <td>1</td>\n",
       "    </tr>\n",
       "    <tr>\n",
       "      <th>2</th>\n",
       "      <td>20190114</td>\n",
       "      <td>14</td>\n",
       "      <td>1</td>\n",
       "      <td>2019</td>\n",
       "      <td>1</td>\n",
       "    </tr>\n",
       "    <tr>\n",
       "      <th>3</th>\n",
       "      <td>20190204</td>\n",
       "      <td>4</td>\n",
       "      <td>2</td>\n",
       "      <td>2019</td>\n",
       "      <td>1</td>\n",
       "    </tr>\n",
       "    <tr>\n",
       "      <th>4</th>\n",
       "      <td>20190211</td>\n",
       "      <td>11</td>\n",
       "      <td>2</td>\n",
       "      <td>2019</td>\n",
       "      <td>1</td>\n",
       "    </tr>\n",
       "  </tbody>\n",
       "</table>\n",
       "</div>"
      ],
      "text/plain": [
       "    date_id  day  month  year  quarter\n",
       "0  20181231   31     12  2018        4\n",
       "1  20190107    7      1  2019        1\n",
       "2  20190114   14      1  2019        1\n",
       "3  20190204    4      2  2019        1\n",
       "4  20190211   11      2  2019        1"
      ]
     },
     "execution_count": 6,
     "metadata": {},
     "output_type": "execute_result"
    }
   ],
   "source": [
    "date.head()"
   ]
  },
  {
   "cell_type": "code",
   "execution_count": 7,
   "id": "99a60e8e-92b4-4114-bb28-1329ff13bd86",
   "metadata": {},
   "outputs": [
    {
     "name": "stdout",
     "output_type": "stream",
     "text": [
      "<class 'pandas.core.frame.DataFrame'>\n",
      "RangeIndex: 375 entries, 0 to 374\n",
      "Data columns (total 5 columns):\n",
      " #   Column   Non-Null Count  Dtype\n",
      "---  ------   --------------  -----\n",
      " 0   date_id  375 non-null    int64\n",
      " 1   day      375 non-null    int64\n",
      " 2   month    375 non-null    int64\n",
      " 3   year     375 non-null    int64\n",
      " 4   quarter  375 non-null    int64\n",
      "dtypes: int64(5)\n",
      "memory usage: 14.8 KB\n"
     ]
    }
   ],
   "source": [
    "date.info()"
   ]
  },
  {
   "cell_type": "code",
   "execution_count": 8,
   "id": "75d51b18-c5d9-46cd-b591-e5790d158429",
   "metadata": {},
   "outputs": [
    {
     "data": {
      "text/html": [
       "<div>\n",
       "<style scoped>\n",
       "    .dataframe tbody tr th:only-of-type {\n",
       "        vertical-align: middle;\n",
       "    }\n",
       "\n",
       "    .dataframe tbody tr th {\n",
       "        vertical-align: top;\n",
       "    }\n",
       "\n",
       "    .dataframe thead th {\n",
       "        text-align: right;\n",
       "    }\n",
       "</style>\n",
       "<table border=\"1\" class=\"dataframe\">\n",
       "  <thead>\n",
       "    <tr style=\"text-align: right;\">\n",
       "      <th></th>\n",
       "      <th>date_id</th>\n",
       "      <th>day</th>\n",
       "      <th>month</th>\n",
       "      <th>year</th>\n",
       "      <th>quarter</th>\n",
       "    </tr>\n",
       "  </thead>\n",
       "  <tbody>\n",
       "    <tr>\n",
       "      <th>count</th>\n",
       "      <td>3.750000e+02</td>\n",
       "      <td>375.000000</td>\n",
       "      <td>375.000000</td>\n",
       "      <td>375.000000</td>\n",
       "      <td>375.000000</td>\n",
       "    </tr>\n",
       "    <tr>\n",
       "      <th>mean</th>\n",
       "      <td>2.018335e+07</td>\n",
       "      <td>14.869333</td>\n",
       "      <td>5.896000</td>\n",
       "      <td>2018.274667</td>\n",
       "      <td>2.328000</td>\n",
       "    </tr>\n",
       "    <tr>\n",
       "      <th>std</th>\n",
       "      <td>1.618478e+04</td>\n",
       "      <td>8.524045</td>\n",
       "      <td>3.465238</td>\n",
       "      <td>1.622625</td>\n",
       "      <td>1.128929</td>\n",
       "    </tr>\n",
       "    <tr>\n",
       "      <th>min</th>\n",
       "      <td>2.016010e+07</td>\n",
       "      <td>1.000000</td>\n",
       "      <td>1.000000</td>\n",
       "      <td>2016.000000</td>\n",
       "      <td>1.000000</td>\n",
       "    </tr>\n",
       "    <tr>\n",
       "      <th>25%</th>\n",
       "      <td>2.017052e+07</td>\n",
       "      <td>7.000000</td>\n",
       "      <td>3.000000</td>\n",
       "      <td>2017.000000</td>\n",
       "      <td>1.000000</td>\n",
       "    </tr>\n",
       "    <tr>\n",
       "      <th>50%</th>\n",
       "      <td>2.018081e+07</td>\n",
       "      <td>15.000000</td>\n",
       "      <td>6.000000</td>\n",
       "      <td>2018.000000</td>\n",
       "      <td>2.000000</td>\n",
       "    </tr>\n",
       "    <tr>\n",
       "      <th>75%</th>\n",
       "      <td>2.019121e+07</td>\n",
       "      <td>22.000000</td>\n",
       "      <td>9.000000</td>\n",
       "      <td>2019.000000</td>\n",
       "      <td>3.000000</td>\n",
       "    </tr>\n",
       "    <tr>\n",
       "      <th>max</th>\n",
       "      <td>2.021082e+07</td>\n",
       "      <td>31.000000</td>\n",
       "      <td>12.000000</td>\n",
       "      <td>2021.000000</td>\n",
       "      <td>4.000000</td>\n",
       "    </tr>\n",
       "  </tbody>\n",
       "</table>\n",
       "</div>"
      ],
      "text/plain": [
       "            date_id         day       month         year     quarter\n",
       "count  3.750000e+02  375.000000  375.000000   375.000000  375.000000\n",
       "mean   2.018335e+07   14.869333    5.896000  2018.274667    2.328000\n",
       "std    1.618478e+04    8.524045    3.465238     1.622625    1.128929\n",
       "min    2.016010e+07    1.000000    1.000000  2016.000000    1.000000\n",
       "25%    2.017052e+07    7.000000    3.000000  2017.000000    1.000000\n",
       "50%    2.018081e+07   15.000000    6.000000  2018.000000    2.000000\n",
       "75%    2.019121e+07   22.000000    9.000000  2019.000000    3.000000\n",
       "max    2.021082e+07   31.000000   12.000000  2021.000000    4.000000"
      ]
     },
     "execution_count": 8,
     "metadata": {},
     "output_type": "execute_result"
    }
   ],
   "source": [
    "date.describe()"
   ]
  },
  {
   "cell_type": "code",
   "execution_count": 9,
   "id": "70153650-82d8-4a23-82e5-10ce8150f16d",
   "metadata": {},
   "outputs": [
    {
     "data": {
      "text/plain": [
       "date_id    0\n",
       "day        0\n",
       "month      0\n",
       "year       0\n",
       "quarter    0\n",
       "dtype: int64"
      ]
     },
     "execution_count": 9,
     "metadata": {},
     "output_type": "execute_result"
    }
   ],
   "source": [
    "date.isna().sum()"
   ]
  },
  {
   "cell_type": "markdown",
   "id": "8ab837f0-f3d6-4ca7-983a-f9c1adf306fd",
   "metadata": {},
   "source": [
    "### Tournament Tab\n",
    "La table contiene alcuni missing values nell'attributo 'surface', sostituiti con il valore più frequente. Inoltre, abbiamo controllato che gli attributi non numerici non contenesseto stringhe non regolari (ie. stringhe composte da un char soltanto o blank values)"
   ]
  },
  {
   "cell_type": "code",
   "execution_count": 10,
   "id": "ad34fae2-d55d-4735-b3f3-cf3c6a097c79",
   "metadata": {},
   "outputs": [
    {
     "data": {
      "text/plain": [
       "(4910, 8)"
      ]
     },
     "execution_count": 10,
     "metadata": {},
     "output_type": "execute_result"
    }
   ],
   "source": [
    "tourn.shape"
   ]
  },
  {
   "cell_type": "code",
   "execution_count": 11,
   "id": "c9680196-3997-4d00-95f5-0c37a6254d2e",
   "metadata": {},
   "outputs": [
    {
     "data": {
      "text/html": [
       "<div>\n",
       "<style scoped>\n",
       "    .dataframe tbody tr th:only-of-type {\n",
       "        vertical-align: middle;\n",
       "    }\n",
       "\n",
       "    .dataframe tbody tr th {\n",
       "        vertical-align: top;\n",
       "    }\n",
       "\n",
       "    .dataframe thead th {\n",
       "        text-align: right;\n",
       "    }\n",
       "</style>\n",
       "<table border=\"1\" class=\"dataframe\">\n",
       "  <thead>\n",
       "    <tr style=\"text-align: right;\">\n",
       "      <th></th>\n",
       "      <th>tourney_id</th>\n",
       "      <th>date_id</th>\n",
       "      <th>tourney_name</th>\n",
       "      <th>surface</th>\n",
       "      <th>draw_size</th>\n",
       "      <th>tourney_level</th>\n",
       "      <th>tourney_spectators</th>\n",
       "      <th>tourney_revenue</th>\n",
       "    </tr>\n",
       "  </thead>\n",
       "  <tbody>\n",
       "    <tr>\n",
       "      <th>0</th>\n",
       "      <td>2019-M020-A</td>\n",
       "      <td>20181231</td>\n",
       "      <td>Brisbane</td>\n",
       "      <td>Hard</td>\n",
       "      <td>32</td>\n",
       "      <td>A</td>\n",
       "      <td>3928</td>\n",
       "      <td>742618.69</td>\n",
       "    </tr>\n",
       "    <tr>\n",
       "      <th>1</th>\n",
       "      <td>2019-M020-P</td>\n",
       "      <td>20181231</td>\n",
       "      <td>Brisbane</td>\n",
       "      <td>Hard</td>\n",
       "      <td>32</td>\n",
       "      <td>P</td>\n",
       "      <td>3928</td>\n",
       "      <td>742618.69</td>\n",
       "    </tr>\n",
       "    <tr>\n",
       "      <th>2</th>\n",
       "      <td>2019-0451-A</td>\n",
       "      <td>20181231</td>\n",
       "      <td>Doha</td>\n",
       "      <td>Hard</td>\n",
       "      <td>32</td>\n",
       "      <td>A</td>\n",
       "      <td>2923</td>\n",
       "      <td>550943.19</td>\n",
       "    </tr>\n",
       "    <tr>\n",
       "      <th>3</th>\n",
       "      <td>2019-0891-A</td>\n",
       "      <td>20181231</td>\n",
       "      <td>Pune</td>\n",
       "      <td>Hard</td>\n",
       "      <td>32</td>\n",
       "      <td>A</td>\n",
       "      <td>4062</td>\n",
       "      <td>1005592.39</td>\n",
       "    </tr>\n",
       "    <tr>\n",
       "      <th>4</th>\n",
       "      <td>2019-0301-A</td>\n",
       "      <td>20190107</td>\n",
       "      <td>Auckland</td>\n",
       "      <td>Hard</td>\n",
       "      <td>32</td>\n",
       "      <td>A</td>\n",
       "      <td>2784</td>\n",
       "      <td>489426.09</td>\n",
       "    </tr>\n",
       "  </tbody>\n",
       "</table>\n",
       "</div>"
      ],
      "text/plain": [
       "    tourney_id   date_id tourney_name surface  draw_size tourney_level  \\\n",
       "0  2019-M020-A  20181231     Brisbane    Hard         32             A   \n",
       "1  2019-M020-P  20181231     Brisbane    Hard         32             P   \n",
       "2  2019-0451-A  20181231         Doha    Hard         32             A   \n",
       "3  2019-0891-A  20181231         Pune    Hard         32             A   \n",
       "4  2019-0301-A  20190107     Auckland    Hard         32             A   \n",
       "\n",
       "   tourney_spectators  tourney_revenue  \n",
       "0                3928        742618.69  \n",
       "1                3928        742618.69  \n",
       "2                2923        550943.19  \n",
       "3                4062       1005592.39  \n",
       "4                2784        489426.09  "
      ]
     },
     "execution_count": 11,
     "metadata": {},
     "output_type": "execute_result"
    }
   ],
   "source": [
    "tourn.head()"
   ]
  },
  {
   "cell_type": "code",
   "execution_count": 12,
   "id": "6c59ffd6-5612-46fc-8162-ebf74073f0bd",
   "metadata": {},
   "outputs": [
    {
     "name": "stdout",
     "output_type": "stream",
     "text": [
      "<class 'pandas.core.frame.DataFrame'>\n",
      "RangeIndex: 4910 entries, 0 to 4909\n",
      "Data columns (total 8 columns):\n",
      " #   Column              Non-Null Count  Dtype  \n",
      "---  ------              --------------  -----  \n",
      " 0   tourney_id          4910 non-null   object \n",
      " 1   date_id             4910 non-null   int64  \n",
      " 2   tourney_name        4910 non-null   object \n",
      " 3   surface             4910 non-null   object \n",
      " 4   draw_size           4910 non-null   int64  \n",
      " 5   tourney_level       4910 non-null   object \n",
      " 6   tourney_spectators  4910 non-null   int64  \n",
      " 7   tourney_revenue     4910 non-null   float64\n",
      "dtypes: float64(1), int64(3), object(4)\n",
      "memory usage: 307.0+ KB\n"
     ]
    }
   ],
   "source": [
    "tourn.info()"
   ]
  },
  {
   "cell_type": "code",
   "execution_count": 13,
   "id": "094a69ca-ccfa-430d-9dae-fa8082b9b8f0",
   "metadata": {},
   "outputs": [
    {
     "data": {
      "text/html": [
       "<div>\n",
       "<style scoped>\n",
       "    .dataframe tbody tr th:only-of-type {\n",
       "        vertical-align: middle;\n",
       "    }\n",
       "\n",
       "    .dataframe tbody tr th {\n",
       "        vertical-align: top;\n",
       "    }\n",
       "\n",
       "    .dataframe thead th {\n",
       "        text-align: right;\n",
       "    }\n",
       "</style>\n",
       "<table border=\"1\" class=\"dataframe\">\n",
       "  <thead>\n",
       "    <tr style=\"text-align: right;\">\n",
       "      <th></th>\n",
       "      <th>date_id</th>\n",
       "      <th>draw_size</th>\n",
       "      <th>tourney_spectators</th>\n",
       "      <th>tourney_revenue</th>\n",
       "    </tr>\n",
       "  </thead>\n",
       "  <tbody>\n",
       "    <tr>\n",
       "      <th>count</th>\n",
       "      <td>4.910000e+03</td>\n",
       "      <td>4910.000000</td>\n",
       "      <td>4910.000000</td>\n",
       "      <td>4.910000e+03</td>\n",
       "    </tr>\n",
       "    <tr>\n",
       "      <th>mean</th>\n",
       "      <td>2.018031e+07</td>\n",
       "      <td>29.380041</td>\n",
       "      <td>2952.248880</td>\n",
       "      <td>5.889517e+05</td>\n",
       "    </tr>\n",
       "    <tr>\n",
       "      <th>std</th>\n",
       "      <td>1.531931e+04</td>\n",
       "      <td>17.100537</td>\n",
       "      <td>1860.942892</td>\n",
       "      <td>3.887455e+05</td>\n",
       "    </tr>\n",
       "    <tr>\n",
       "      <th>min</th>\n",
       "      <td>2.016010e+07</td>\n",
       "      <td>2.000000</td>\n",
       "      <td>91.000000</td>\n",
       "      <td>1.786574e+04</td>\n",
       "    </tr>\n",
       "    <tr>\n",
       "      <th>25%</th>\n",
       "      <td>2.017021e+07</td>\n",
       "      <td>32.000000</td>\n",
       "      <td>2331.250000</td>\n",
       "      <td>4.342581e+05</td>\n",
       "    </tr>\n",
       "    <tr>\n",
       "      <th>50%</th>\n",
       "      <td>2.018042e+07</td>\n",
       "      <td>32.000000</td>\n",
       "      <td>3073.000000</td>\n",
       "      <td>5.965443e+05</td>\n",
       "    </tr>\n",
       "    <tr>\n",
       "      <th>75%</th>\n",
       "      <td>2.019072e+07</td>\n",
       "      <td>32.000000</td>\n",
       "      <td>3638.750000</td>\n",
       "      <td>7.384102e+05</td>\n",
       "    </tr>\n",
       "    <tr>\n",
       "      <th>max</th>\n",
       "      <td>2.021082e+07</td>\n",
       "      <td>128.000000</td>\n",
       "      <td>18086.000000</td>\n",
       "      <td>5.002794e+06</td>\n",
       "    </tr>\n",
       "  </tbody>\n",
       "</table>\n",
       "</div>"
      ],
      "text/plain": [
       "            date_id    draw_size  tourney_spectators  tourney_revenue\n",
       "count  4.910000e+03  4910.000000         4910.000000     4.910000e+03\n",
       "mean   2.018031e+07    29.380041         2952.248880     5.889517e+05\n",
       "std    1.531931e+04    17.100537         1860.942892     3.887455e+05\n",
       "min    2.016010e+07     2.000000           91.000000     1.786574e+04\n",
       "25%    2.017021e+07    32.000000         2331.250000     4.342581e+05\n",
       "50%    2.018042e+07    32.000000         3073.000000     5.965443e+05\n",
       "75%    2.019072e+07    32.000000         3638.750000     7.384102e+05\n",
       "max    2.021082e+07   128.000000        18086.000000     5.002794e+06"
      ]
     },
     "execution_count": 13,
     "metadata": {},
     "output_type": "execute_result"
    }
   ],
   "source": [
    "tourn.describe()"
   ]
  },
  {
   "cell_type": "code",
   "execution_count": 14,
   "id": "fd899812-79e8-4128-baac-97487cb23ea2",
   "metadata": {},
   "outputs": [
    {
     "data": {
      "text/plain": [
       "tourney_id            0\n",
       "date_id               0\n",
       "tourney_name          0\n",
       "surface               0\n",
       "draw_size             0\n",
       "tourney_level         0\n",
       "tourney_spectators    0\n",
       "tourney_revenue       0\n",
       "dtype: int64"
      ]
     },
     "execution_count": 14,
     "metadata": {},
     "output_type": "execute_result"
    }
   ],
   "source": [
    "tourn.isna().sum()"
   ]
  },
  {
   "cell_type": "code",
   "execution_count": 15,
   "id": "370b76cd-c1ad-45e1-920a-4f13621836f2",
   "metadata": {},
   "outputs": [
    {
     "data": {
      "text/plain": [
       "Hard      2660\n",
       "Clay      2052\n",
       "Grass      110\n",
       "Carpet      88\n",
       "Name: surface, dtype: int64"
      ]
     },
     "execution_count": 15,
     "metadata": {},
     "output_type": "execute_result"
    }
   ],
   "source": [
    "tourn['surface'].value_counts()"
   ]
  },
  {
   "cell_type": "code",
   "execution_count": 16,
   "id": "d4a1bfcb-23fc-4639-a68b-a170dba39fe1",
   "metadata": {},
   "outputs": [],
   "source": [
    "tourn.fillna(value={'surface':tourn['surface'].mode()[0]}, inplace=True)"
   ]
  },
  {
   "cell_type": "code",
   "execution_count": 17,
   "id": "e186fbc9-eb58-4cdc-bcf6-2654f3fa85ff",
   "metadata": {},
   "outputs": [],
   "source": [
    "# Controllo se tra gli attributi non numerici ci sono delle stringhe non regolari:\n",
    "# ie. nulle ma non nan, blank spaces o singoli caratteri\n",
    "\n",
    "#scopeStrLength(tourn['tourney_id'],9)\n",
    "#scopeStrLength(tourn['tourney_name'],4)\n",
    "#tourn['surface'].value_counts()\n",
    "#tourn['tourney_level'].value_counts()"
   ]
  },
  {
   "cell_type": "markdown",
   "id": "46611189-7e78-432d-a493-6713a64d6aa4",
   "metadata": {},
   "source": [
    "### Player\n",
    "La tabella contiene diversi attributi con valori mancanti. Gli attributi a valori discreti sono stati sostituiti con la moda, mentre i valori numerici (year of birth) considerando la mediana. Lo scoping delle stringhe non ha rilevato stringhe anomale troppo corte."
   ]
  },
  {
   "cell_type": "code",
   "execution_count": 18,
   "id": "c1ab22f5-63fd-44a4-a023-2928fb16a0e4",
   "metadata": {},
   "outputs": [
    {
     "data": {
      "text/plain": [
       "(10074, 7)"
      ]
     },
     "execution_count": 18,
     "metadata": {},
     "output_type": "execute_result"
    }
   ],
   "source": [
    "player.shape"
   ]
  },
  {
   "cell_type": "code",
   "execution_count": 19,
   "id": "e6c6ee3a-c21d-4790-9687-676b0bc68858",
   "metadata": {},
   "outputs": [
    {
     "data": {
      "text/html": [
       "<div>\n",
       "<style scoped>\n",
       "    .dataframe tbody tr th:only-of-type {\n",
       "        vertical-align: middle;\n",
       "    }\n",
       "\n",
       "    .dataframe tbody tr th {\n",
       "        vertical-align: top;\n",
       "    }\n",
       "\n",
       "    .dataframe thead th {\n",
       "        text-align: right;\n",
       "    }\n",
       "</style>\n",
       "<table border=\"1\" class=\"dataframe\">\n",
       "  <thead>\n",
       "    <tr style=\"text-align: right;\">\n",
       "      <th></th>\n",
       "      <th>player_id</th>\n",
       "      <th>country_id</th>\n",
       "      <th>name</th>\n",
       "      <th>sex</th>\n",
       "      <th>hand</th>\n",
       "      <th>ht</th>\n",
       "      <th>year_of_birth</th>\n",
       "    </tr>\n",
       "  </thead>\n",
       "  <tbody>\n",
       "    <tr>\n",
       "      <th>0</th>\n",
       "      <td>105453</td>\n",
       "      <td>JPN</td>\n",
       "      <td>Kei Nishikori</td>\n",
       "      <td>M</td>\n",
       "      <td>R</td>\n",
       "      <td>178</td>\n",
       "      <td>1992</td>\n",
       "    </tr>\n",
       "    <tr>\n",
       "      <th>1</th>\n",
       "      <td>106421</td>\n",
       "      <td>RUS</td>\n",
       "      <td>Daniil Medvedev</td>\n",
       "      <td>M</td>\n",
       "      <td>R</td>\n",
       "      <td>198</td>\n",
       "      <td>1998</td>\n",
       "    </tr>\n",
       "    <tr>\n",
       "      <th>2</th>\n",
       "      <td>104542</td>\n",
       "      <td>FRA</td>\n",
       "      <td>Jo-Wilfried Tsonga</td>\n",
       "      <td>F</td>\n",
       "      <td>R</td>\n",
       "      <td>188</td>\n",
       "      <td>1987</td>\n",
       "    </tr>\n",
       "    <tr>\n",
       "      <th>3</th>\n",
       "      <td>104871</td>\n",
       "      <td>FRA</td>\n",
       "      <td>Jeremy Chardy</td>\n",
       "      <td>M</td>\n",
       "      <td>R</td>\n",
       "      <td>188</td>\n",
       "      <td>1989</td>\n",
       "    </tr>\n",
       "    <tr>\n",
       "      <th>4</th>\n",
       "      <td>200282</td>\n",
       "      <td>AUS</td>\n",
       "      <td>Alex De Minaur</td>\n",
       "      <td>M</td>\n",
       "      <td>R</td>\n",
       "      <td>183</td>\n",
       "      <td>2001</td>\n",
       "    </tr>\n",
       "  </tbody>\n",
       "</table>\n",
       "</div>"
      ],
      "text/plain": [
       "   player_id country_id                name sex hand   ht  year_of_birth\n",
       "0     105453        JPN       Kei Nishikori   M    R  178           1992\n",
       "1     106421        RUS     Daniil Medvedev   M    R  198           1998\n",
       "2     104542        FRA  Jo-Wilfried Tsonga   F    R  188           1987\n",
       "3     104871        FRA       Jeremy Chardy   M    R  188           1989\n",
       "4     200282        AUS      Alex De Minaur   M    R  183           2001"
      ]
     },
     "execution_count": 19,
     "metadata": {},
     "output_type": "execute_result"
    }
   ],
   "source": [
    "player.head()"
   ]
  },
  {
   "cell_type": "code",
   "execution_count": 20,
   "id": "f97b4f0a-f24f-404f-860d-287329c8f43a",
   "metadata": {},
   "outputs": [
    {
     "name": "stdout",
     "output_type": "stream",
     "text": [
      "<class 'pandas.core.frame.DataFrame'>\n",
      "RangeIndex: 10074 entries, 0 to 10073\n",
      "Data columns (total 7 columns):\n",
      " #   Column         Non-Null Count  Dtype \n",
      "---  ------         --------------  ----- \n",
      " 0   player_id      10074 non-null  int64 \n",
      " 1   country_id     10074 non-null  object\n",
      " 2   name           10074 non-null  object\n",
      " 3   sex            10074 non-null  object\n",
      " 4   hand           10074 non-null  object\n",
      " 5   ht             10074 non-null  int64 \n",
      " 6   year_of_birth  10074 non-null  int64 \n",
      "dtypes: int64(3), object(4)\n",
      "memory usage: 551.0+ KB\n"
     ]
    }
   ],
   "source": [
    "player.info()"
   ]
  },
  {
   "cell_type": "code",
   "execution_count": 21,
   "id": "40b9116b-88ca-41e8-8206-099d75ab8bfa",
   "metadata": {},
   "outputs": [
    {
     "data": {
      "text/html": [
       "<div>\n",
       "<style scoped>\n",
       "    .dataframe tbody tr th:only-of-type {\n",
       "        vertical-align: middle;\n",
       "    }\n",
       "\n",
       "    .dataframe tbody tr th {\n",
       "        vertical-align: top;\n",
       "    }\n",
       "\n",
       "    .dataframe thead th {\n",
       "        text-align: right;\n",
       "    }\n",
       "</style>\n",
       "<table border=\"1\" class=\"dataframe\">\n",
       "  <thead>\n",
       "    <tr style=\"text-align: right;\">\n",
       "      <th></th>\n",
       "      <th>player_id</th>\n",
       "      <th>ht</th>\n",
       "      <th>year_of_birth</th>\n",
       "    </tr>\n",
       "  </thead>\n",
       "  <tbody>\n",
       "    <tr>\n",
       "      <th>count</th>\n",
       "      <td>10074.000000</td>\n",
       "      <td>10074.000000</td>\n",
       "      <td>10074.000000</td>\n",
       "    </tr>\n",
       "    <tr>\n",
       "      <th>mean</th>\n",
       "      <td>196397.719575</td>\n",
       "      <td>184.827080</td>\n",
       "      <td>1999.838396</td>\n",
       "    </tr>\n",
       "    <tr>\n",
       "      <th>std</th>\n",
       "      <td>41580.118805</td>\n",
       "      <td>2.165788</td>\n",
       "      <td>4.511971</td>\n",
       "    </tr>\n",
       "    <tr>\n",
       "      <th>min</th>\n",
       "      <td>100644.000000</td>\n",
       "      <td>145.000000</td>\n",
       "      <td>1947.000000</td>\n",
       "    </tr>\n",
       "    <tr>\n",
       "      <th>25%</th>\n",
       "      <td>201898.250000</td>\n",
       "      <td>185.000000</td>\n",
       "      <td>1998.000000</td>\n",
       "    </tr>\n",
       "    <tr>\n",
       "      <th>50%</th>\n",
       "      <td>214867.500000</td>\n",
       "      <td>185.000000</td>\n",
       "      <td>2001.000000</td>\n",
       "    </tr>\n",
       "    <tr>\n",
       "      <th>75%</th>\n",
       "      <td>221452.750000</td>\n",
       "      <td>185.000000</td>\n",
       "      <td>2003.000000</td>\n",
       "    </tr>\n",
       "    <tr>\n",
       "      <th>max</th>\n",
       "      <td>245099.000000</td>\n",
       "      <td>211.000000</td>\n",
       "      <td>2007.000000</td>\n",
       "    </tr>\n",
       "  </tbody>\n",
       "</table>\n",
       "</div>"
      ],
      "text/plain": [
       "           player_id            ht  year_of_birth\n",
       "count   10074.000000  10074.000000   10074.000000\n",
       "mean   196397.719575    184.827080    1999.838396\n",
       "std     41580.118805      2.165788       4.511971\n",
       "min    100644.000000    145.000000    1947.000000\n",
       "25%    201898.250000    185.000000    1998.000000\n",
       "50%    214867.500000    185.000000    2001.000000\n",
       "75%    221452.750000    185.000000    2003.000000\n",
       "max    245099.000000    211.000000    2007.000000"
      ]
     },
     "execution_count": 21,
     "metadata": {},
     "output_type": "execute_result"
    }
   ],
   "source": [
    "player.describe()"
   ]
  },
  {
   "cell_type": "code",
   "execution_count": 22,
   "id": "5e00bda6-5b24-4b1c-a46c-c7a1e3ae2395",
   "metadata": {},
   "outputs": [],
   "source": [
    "player.fillna(value={'sex':player['sex'].mode()[0]}, inplace=True)\n",
    "player.fillna(value={'hand':player['hand'].mode()[0]}, inplace=True)\n",
    "player.fillna(value={'ht':player['ht'].mode()[0]}, inplace=True)\n",
    "player.fillna(value={'year_of_birth':player['year_of_birth'].median()}, inplace=True)"
   ]
  },
  {
   "cell_type": "code",
   "execution_count": 23,
   "id": "653d5279-a793-4732-96e4-a99d93201887",
   "metadata": {},
   "outputs": [],
   "source": [
    "# Controllo se tra gli attributi non numerici se ci sono delle stringhe non regolari:\n",
    "# ie. nulle ma non nan, blank spaces o singoli caratteri\n",
    "#scopeStrLength(player['country_id'],3)\n",
    "#scopeStrLength(player['name'],5)\n",
    "#player['sex'].value_counts()\n",
    "#player['hand'].value_counts()\n",
    "#player['ht'].value_counts()  ---> abbiamo un valore di ht uguale a 2 -> lo eliminiamo\n",
    "\n",
    "htFMedian = int(player[player['sex']=='F'][['ht']].median())\n",
    "player.loc[player.name == 'Kamilla Rakhimova', 'ht'] = htFMedian\n"
   ]
  },
  {
   "cell_type": "markdown",
   "id": "294b227e-3373-449c-b51b-45c2ada520c9",
   "metadata": {},
   "source": [
    "### Match Tab\n",
    "La table contiene molti attributi numerici con valori mancanti, opportunamente sostituiti considerando la mediana. Inoltre, abbiamo selettivamente sostituito alcuni valori anomali:\n",
    "- alcune partite hanno una durata nulla (0 minutes) nonostante lo score indichi una partita completa (non annullata e nessun ritirato - RET)\n",
    "- ht di 2cm (errori di battitura)\n"
   ]
  },
  {
   "cell_type": "code",
   "execution_count": 24,
   "id": "ce4853cd-1cb8-4fdc-ac66-40742d31ad15",
   "metadata": {},
   "outputs": [
    {
     "data": {
      "text/plain": [
       "(161817, 30)"
      ]
     },
     "execution_count": 24,
     "metadata": {},
     "output_type": "execute_result"
    }
   ],
   "source": [
    "match.shape"
   ]
  },
  {
   "cell_type": "code",
   "execution_count": 25,
   "id": "37b060ab-dd4d-424f-b251-e9ea2cb44bb1",
   "metadata": {},
   "outputs": [
    {
     "data": {
      "text/html": [
       "<div>\n",
       "<style scoped>\n",
       "    .dataframe tbody tr th:only-of-type {\n",
       "        vertical-align: middle;\n",
       "    }\n",
       "\n",
       "    .dataframe tbody tr th {\n",
       "        vertical-align: top;\n",
       "    }\n",
       "\n",
       "    .dataframe thead th {\n",
       "        text-align: right;\n",
       "    }\n",
       "</style>\n",
       "<table border=\"1\" class=\"dataframe\">\n",
       "  <thead>\n",
       "    <tr style=\"text-align: right;\">\n",
       "      <th></th>\n",
       "      <th>tourney_id</th>\n",
       "      <th>match_id</th>\n",
       "      <th>winner_id</th>\n",
       "      <th>loser_id</th>\n",
       "      <th>score</th>\n",
       "      <th>best_of</th>\n",
       "      <th>round</th>\n",
       "      <th>minutes</th>\n",
       "      <th>w_ace</th>\n",
       "      <th>w_df</th>\n",
       "      <th>w_svpt</th>\n",
       "      <th>w_1stIn</th>\n",
       "      <th>w_1stWon</th>\n",
       "      <th>w_2ndWon</th>\n",
       "      <th>w_SvGms</th>\n",
       "      <th>w_bpSaved</th>\n",
       "      <th>w_bpFaced</th>\n",
       "      <th>l_ace</th>\n",
       "      <th>l_df</th>\n",
       "      <th>l_svpt</th>\n",
       "      <th>l_1stIn</th>\n",
       "      <th>l_1stWon</th>\n",
       "      <th>l_2ndWon</th>\n",
       "      <th>l_SvGms</th>\n",
       "      <th>l_bpSaved</th>\n",
       "      <th>l_bpFaced</th>\n",
       "      <th>winner_rank</th>\n",
       "      <th>winner_rank_points</th>\n",
       "      <th>loser_rank</th>\n",
       "      <th>loser_rank_points</th>\n",
       "    </tr>\n",
       "  </thead>\n",
       "  <tbody>\n",
       "    <tr>\n",
       "      <th>0</th>\n",
       "      <td>2019-M020-A</td>\n",
       "      <td>300-2019-M020-A</td>\n",
       "      <td>105453</td>\n",
       "      <td>106421</td>\n",
       "      <td>6-4 3-6 6-2</td>\n",
       "      <td>3</td>\n",
       "      <td>F</td>\n",
       "      <td>124</td>\n",
       "      <td>3</td>\n",
       "      <td>3</td>\n",
       "      <td>77</td>\n",
       "      <td>44</td>\n",
       "      <td>31</td>\n",
       "      <td>17</td>\n",
       "      <td>13</td>\n",
       "      <td>3</td>\n",
       "      <td>6</td>\n",
       "      <td>8</td>\n",
       "      <td>6</td>\n",
       "      <td>100</td>\n",
       "      <td>54</td>\n",
       "      <td>34</td>\n",
       "      <td>20</td>\n",
       "      <td>14</td>\n",
       "      <td>10</td>\n",
       "      <td>15</td>\n",
       "      <td>9</td>\n",
       "      <td>3590</td>\n",
       "      <td>16</td>\n",
       "      <td>1977</td>\n",
       "    </tr>\n",
       "    <tr>\n",
       "      <th>1</th>\n",
       "      <td>2019-M020-A</td>\n",
       "      <td>299-2019-M020-A</td>\n",
       "      <td>106421</td>\n",
       "      <td>104542</td>\n",
       "      <td>7-6(6) 6-2</td>\n",
       "      <td>3</td>\n",
       "      <td>SF</td>\n",
       "      <td>82</td>\n",
       "      <td>10</td>\n",
       "      <td>1</td>\n",
       "      <td>52</td>\n",
       "      <td>33</td>\n",
       "      <td>28</td>\n",
       "      <td>14</td>\n",
       "      <td>10</td>\n",
       "      <td>0</td>\n",
       "      <td>1</td>\n",
       "      <td>17</td>\n",
       "      <td>2</td>\n",
       "      <td>77</td>\n",
       "      <td>52</td>\n",
       "      <td>36</td>\n",
       "      <td>7</td>\n",
       "      <td>10</td>\n",
       "      <td>10</td>\n",
       "      <td>13</td>\n",
       "      <td>16</td>\n",
       "      <td>1977</td>\n",
       "      <td>239</td>\n",
       "      <td>200</td>\n",
       "    </tr>\n",
       "    <tr>\n",
       "      <th>2</th>\n",
       "      <td>2019-M020-A</td>\n",
       "      <td>298-2019-M020-A</td>\n",
       "      <td>105453</td>\n",
       "      <td>104871</td>\n",
       "      <td>6-2 6-2</td>\n",
       "      <td>3</td>\n",
       "      <td>SF</td>\n",
       "      <td>66</td>\n",
       "      <td>2</td>\n",
       "      <td>2</td>\n",
       "      <td>47</td>\n",
       "      <td>33</td>\n",
       "      <td>26</td>\n",
       "      <td>9</td>\n",
       "      <td>8</td>\n",
       "      <td>2</td>\n",
       "      <td>2</td>\n",
       "      <td>10</td>\n",
       "      <td>3</td>\n",
       "      <td>46</td>\n",
       "      <td>27</td>\n",
       "      <td>15</td>\n",
       "      <td>6</td>\n",
       "      <td>8</td>\n",
       "      <td>1</td>\n",
       "      <td>5</td>\n",
       "      <td>9</td>\n",
       "      <td>3590</td>\n",
       "      <td>40</td>\n",
       "      <td>1050</td>\n",
       "    </tr>\n",
       "    <tr>\n",
       "      <th>3</th>\n",
       "      <td>2019-M020-A</td>\n",
       "      <td>297-2019-M020-A</td>\n",
       "      <td>104542</td>\n",
       "      <td>200282</td>\n",
       "      <td>6-4 7-6(2)</td>\n",
       "      <td>3</td>\n",
       "      <td>QF</td>\n",
       "      <td>106</td>\n",
       "      <td>12</td>\n",
       "      <td>2</td>\n",
       "      <td>68</td>\n",
       "      <td>43</td>\n",
       "      <td>34</td>\n",
       "      <td>15</td>\n",
       "      <td>11</td>\n",
       "      <td>4</td>\n",
       "      <td>5</td>\n",
       "      <td>1</td>\n",
       "      <td>2</td>\n",
       "      <td>81</td>\n",
       "      <td>60</td>\n",
       "      <td>38</td>\n",
       "      <td>9</td>\n",
       "      <td>11</td>\n",
       "      <td>4</td>\n",
       "      <td>6</td>\n",
       "      <td>239</td>\n",
       "      <td>200</td>\n",
       "      <td>31</td>\n",
       "      <td>1298</td>\n",
       "    </tr>\n",
       "    <tr>\n",
       "      <th>4</th>\n",
       "      <td>2019-M020-A</td>\n",
       "      <td>296-2019-M020-A</td>\n",
       "      <td>106421</td>\n",
       "      <td>105683</td>\n",
       "      <td>6-7(2) 6-3 6-4</td>\n",
       "      <td>3</td>\n",
       "      <td>QF</td>\n",
       "      <td>129</td>\n",
       "      <td>12</td>\n",
       "      <td>3</td>\n",
       "      <td>105</td>\n",
       "      <td>68</td>\n",
       "      <td>48</td>\n",
       "      <td>25</td>\n",
       "      <td>16</td>\n",
       "      <td>8</td>\n",
       "      <td>8</td>\n",
       "      <td>29</td>\n",
       "      <td>5</td>\n",
       "      <td>94</td>\n",
       "      <td>56</td>\n",
       "      <td>46</td>\n",
       "      <td>19</td>\n",
       "      <td>15</td>\n",
       "      <td>2</td>\n",
       "      <td>4</td>\n",
       "      <td>16</td>\n",
       "      <td>1977</td>\n",
       "      <td>18</td>\n",
       "      <td>1855</td>\n",
       "    </tr>\n",
       "  </tbody>\n",
       "</table>\n",
       "</div>"
      ],
      "text/plain": [
       "    tourney_id         match_id  winner_id  loser_id           score  best_of  \\\n",
       "0  2019-M020-A  300-2019-M020-A     105453    106421     6-4 3-6 6-2        3   \n",
       "1  2019-M020-A  299-2019-M020-A     106421    104542      7-6(6) 6-2        3   \n",
       "2  2019-M020-A  298-2019-M020-A     105453    104871         6-2 6-2        3   \n",
       "3  2019-M020-A  297-2019-M020-A     104542    200282      6-4 7-6(2)        3   \n",
       "4  2019-M020-A  296-2019-M020-A     106421    105683  6-7(2) 6-3 6-4        3   \n",
       "\n",
       "  round  minutes  w_ace  w_df  w_svpt  w_1stIn  w_1stWon  w_2ndWon  w_SvGms  \\\n",
       "0     F      124      3     3      77       44        31        17       13   \n",
       "1    SF       82     10     1      52       33        28        14       10   \n",
       "2    SF       66      2     2      47       33        26         9        8   \n",
       "3    QF      106     12     2      68       43        34        15       11   \n",
       "4    QF      129     12     3     105       68        48        25       16   \n",
       "\n",
       "   w_bpSaved  w_bpFaced  l_ace  l_df  l_svpt  l_1stIn  l_1stWon  l_2ndWon  \\\n",
       "0          3          6      8     6     100       54        34        20   \n",
       "1          0          1     17     2      77       52        36         7   \n",
       "2          2          2     10     3      46       27        15         6   \n",
       "3          4          5      1     2      81       60        38         9   \n",
       "4          8          8     29     5      94       56        46        19   \n",
       "\n",
       "   l_SvGms  l_bpSaved  l_bpFaced  winner_rank  winner_rank_points  loser_rank  \\\n",
       "0       14         10         15            9                3590          16   \n",
       "1       10         10         13           16                1977         239   \n",
       "2        8          1          5            9                3590          40   \n",
       "3       11          4          6          239                 200          31   \n",
       "4       15          2          4           16                1977          18   \n",
       "\n",
       "   loser_rank_points  \n",
       "0               1977  \n",
       "1                200  \n",
       "2               1050  \n",
       "3               1298  \n",
       "4               1855  "
      ]
     },
     "execution_count": 25,
     "metadata": {},
     "output_type": "execute_result"
    }
   ],
   "source": [
    "match.head()"
   ]
  },
  {
   "cell_type": "code",
   "execution_count": 26,
   "id": "3ca1ae6e-f747-415f-8d1d-dcdf43b8148b",
   "metadata": {},
   "outputs": [
    {
     "name": "stdout",
     "output_type": "stream",
     "text": [
      "<class 'pandas.core.frame.DataFrame'>\n",
      "RangeIndex: 161817 entries, 0 to 161816\n",
      "Data columns (total 30 columns):\n",
      " #   Column              Non-Null Count   Dtype \n",
      "---  ------              --------------   ----- \n",
      " 0   tourney_id          161817 non-null  object\n",
      " 1   match_id            161817 non-null  object\n",
      " 2   winner_id           161817 non-null  int64 \n",
      " 3   loser_id            161817 non-null  int64 \n",
      " 4   score               161817 non-null  object\n",
      " 5   best_of             161817 non-null  int64 \n",
      " 6   round               161817 non-null  object\n",
      " 7   minutes             161817 non-null  int64 \n",
      " 8   w_ace               161817 non-null  int64 \n",
      " 9   w_df                161817 non-null  int64 \n",
      " 10  w_svpt              161817 non-null  int64 \n",
      " 11  w_1stIn             161817 non-null  int64 \n",
      " 12  w_1stWon            161817 non-null  int64 \n",
      " 13  w_2ndWon            161817 non-null  int64 \n",
      " 14  w_SvGms             161817 non-null  int64 \n",
      " 15  w_bpSaved           161817 non-null  int64 \n",
      " 16  w_bpFaced           161817 non-null  int64 \n",
      " 17  l_ace               161817 non-null  int64 \n",
      " 18  l_df                161817 non-null  int64 \n",
      " 19  l_svpt              161817 non-null  int64 \n",
      " 20  l_1stIn             161817 non-null  int64 \n",
      " 21  l_1stWon            161817 non-null  int64 \n",
      " 22  l_2ndWon            161817 non-null  int64 \n",
      " 23  l_SvGms             161817 non-null  int64 \n",
      " 24  l_bpSaved           161817 non-null  int64 \n",
      " 25  l_bpFaced           161817 non-null  int64 \n",
      " 26  winner_rank         161817 non-null  int64 \n",
      " 27  winner_rank_points  161817 non-null  int64 \n",
      " 28  loser_rank          161817 non-null  int64 \n",
      " 29  loser_rank_points   161817 non-null  int64 \n",
      "dtypes: int64(26), object(4)\n",
      "memory usage: 37.0+ MB\n"
     ]
    }
   ],
   "source": [
    "match.info()"
   ]
  },
  {
   "cell_type": "code",
   "execution_count": 27,
   "id": "899e5078-e11a-4dbf-8051-e54a10bc1177",
   "metadata": {},
   "outputs": [
    {
     "data": {
      "text/html": [
       "<div>\n",
       "<style scoped>\n",
       "    .dataframe tbody tr th:only-of-type {\n",
       "        vertical-align: middle;\n",
       "    }\n",
       "\n",
       "    .dataframe tbody tr th {\n",
       "        vertical-align: top;\n",
       "    }\n",
       "\n",
       "    .dataframe thead th {\n",
       "        text-align: right;\n",
       "    }\n",
       "</style>\n",
       "<table border=\"1\" class=\"dataframe\">\n",
       "  <thead>\n",
       "    <tr style=\"text-align: right;\">\n",
       "      <th></th>\n",
       "      <th>winner_id</th>\n",
       "      <th>loser_id</th>\n",
       "      <th>best_of</th>\n",
       "      <th>minutes</th>\n",
       "      <th>w_ace</th>\n",
       "      <th>w_df</th>\n",
       "      <th>w_svpt</th>\n",
       "      <th>w_1stIn</th>\n",
       "      <th>w_1stWon</th>\n",
       "      <th>w_2ndWon</th>\n",
       "      <th>w_SvGms</th>\n",
       "      <th>w_bpSaved</th>\n",
       "      <th>w_bpFaced</th>\n",
       "      <th>l_ace</th>\n",
       "      <th>l_df</th>\n",
       "      <th>l_svpt</th>\n",
       "      <th>l_1stIn</th>\n",
       "      <th>l_1stWon</th>\n",
       "      <th>l_2ndWon</th>\n",
       "      <th>l_SvGms</th>\n",
       "      <th>l_bpSaved</th>\n",
       "      <th>l_bpFaced</th>\n",
       "      <th>winner_rank</th>\n",
       "      <th>winner_rank_points</th>\n",
       "      <th>loser_rank</th>\n",
       "      <th>loser_rank_points</th>\n",
       "    </tr>\n",
       "  </thead>\n",
       "  <tbody>\n",
       "    <tr>\n",
       "      <th>count</th>\n",
       "      <td>161817.000000</td>\n",
       "      <td>161817.000000</td>\n",
       "      <td>161817.000000</td>\n",
       "      <td>161817.000000</td>\n",
       "      <td>161817.000000</td>\n",
       "      <td>161817.000000</td>\n",
       "      <td>161817.000000</td>\n",
       "      <td>161817.000000</td>\n",
       "      <td>161817.000000</td>\n",
       "      <td>161817.000000</td>\n",
       "      <td>161817.000000</td>\n",
       "      <td>161817.000000</td>\n",
       "      <td>161817.000000</td>\n",
       "      <td>161817.000000</td>\n",
       "      <td>161817.000000</td>\n",
       "      <td>161817.000000</td>\n",
       "      <td>161817.000000</td>\n",
       "      <td>161817.000000</td>\n",
       "      <td>161817.000000</td>\n",
       "      <td>161817.000000</td>\n",
       "      <td>161817.000000</td>\n",
       "      <td>161817.000000</td>\n",
       "      <td>161817.000000</td>\n",
       "      <td>161817.000000</td>\n",
       "      <td>161817.000000</td>\n",
       "      <td>161817.000000</td>\n",
       "    </tr>\n",
       "    <tr>\n",
       "      <th>mean</th>\n",
       "      <td>176180.824963</td>\n",
       "      <td>177877.241056</td>\n",
       "      <td>3.026462</td>\n",
       "      <td>93.369448</td>\n",
       "      <td>4.383940</td>\n",
       "      <td>2.396269</td>\n",
       "      <td>68.817250</td>\n",
       "      <td>42.398394</td>\n",
       "      <td>30.921047</td>\n",
       "      <td>14.192656</td>\n",
       "      <td>10.537613</td>\n",
       "      <td>3.240716</td>\n",
       "      <td>5.165205</td>\n",
       "      <td>2.729892</td>\n",
       "      <td>3.278061</td>\n",
       "      <td>70.948955</td>\n",
       "      <td>43.059320</td>\n",
       "      <td>26.891260</td>\n",
       "      <td>12.317519</td>\n",
       "      <td>10.458728</td>\n",
       "      <td>4.296224</td>\n",
       "      <td>8.374689</td>\n",
       "      <td>366.795466</td>\n",
       "      <td>439.095725</td>\n",
       "      <td>413.543293</td>\n",
       "      <td>319.972401</td>\n",
       "    </tr>\n",
       "    <tr>\n",
       "      <th>std</th>\n",
       "      <td>47318.475445</td>\n",
       "      <td>47492.694368</td>\n",
       "      <td>0.228526</td>\n",
       "      <td>28.752226</td>\n",
       "      <td>3.003731</td>\n",
       "      <td>1.714819</td>\n",
       "      <td>17.477927</td>\n",
       "      <td>11.643169</td>\n",
       "      <td>7.793488</td>\n",
       "      <td>4.044479</td>\n",
       "      <td>2.335307</td>\n",
       "      <td>2.151168</td>\n",
       "      <td>2.894098</td>\n",
       "      <td>2.728868</td>\n",
       "      <td>1.815578</td>\n",
       "      <td>17.077674</td>\n",
       "      <td>11.464941</td>\n",
       "      <td>8.387957</td>\n",
       "      <td>4.322846</td>\n",
       "      <td>2.313238</td>\n",
       "      <td>2.183499</td>\n",
       "      <td>2.752985</td>\n",
       "      <td>293.355661</td>\n",
       "      <td>971.016462</td>\n",
       "      <td>326.192197</td>\n",
       "      <td>642.418828</td>\n",
       "    </tr>\n",
       "    <tr>\n",
       "      <th>min</th>\n",
       "      <td>100644.000000</td>\n",
       "      <td>100644.000000</td>\n",
       "      <td>3.000000</td>\n",
       "      <td>0.000000</td>\n",
       "      <td>0.000000</td>\n",
       "      <td>0.000000</td>\n",
       "      <td>0.000000</td>\n",
       "      <td>0.000000</td>\n",
       "      <td>0.000000</td>\n",
       "      <td>0.000000</td>\n",
       "      <td>0.000000</td>\n",
       "      <td>0.000000</td>\n",
       "      <td>0.000000</td>\n",
       "      <td>0.000000</td>\n",
       "      <td>0.000000</td>\n",
       "      <td>0.000000</td>\n",
       "      <td>0.000000</td>\n",
       "      <td>0.000000</td>\n",
       "      <td>0.000000</td>\n",
       "      <td>0.000000</td>\n",
       "      <td>0.000000</td>\n",
       "      <td>0.000000</td>\n",
       "      <td>1.000000</td>\n",
       "      <td>1.000000</td>\n",
       "      <td>1.000000</td>\n",
       "      <td>1.000000</td>\n",
       "    </tr>\n",
       "    <tr>\n",
       "      <th>25%</th>\n",
       "      <td>111442.000000</td>\n",
       "      <td>111761.000000</td>\n",
       "      <td>3.000000</td>\n",
       "      <td>90.000000</td>\n",
       "      <td>4.000000</td>\n",
       "      <td>2.000000</td>\n",
       "      <td>67.000000</td>\n",
       "      <td>41.000000</td>\n",
       "      <td>30.000000</td>\n",
       "      <td>14.000000</td>\n",
       "      <td>10.000000</td>\n",
       "      <td>3.000000</td>\n",
       "      <td>5.000000</td>\n",
       "      <td>2.000000</td>\n",
       "      <td>3.000000</td>\n",
       "      <td>69.000000</td>\n",
       "      <td>42.000000</td>\n",
       "      <td>26.000000</td>\n",
       "      <td>12.000000</td>\n",
       "      <td>10.000000</td>\n",
       "      <td>4.000000</td>\n",
       "      <td>8.000000</td>\n",
       "      <td>147.000000</td>\n",
       "      <td>59.000000</td>\n",
       "      <td>186.000000</td>\n",
       "      <td>50.000000</td>\n",
       "    </tr>\n",
       "    <tr>\n",
       "      <th>50%</th>\n",
       "      <td>202659.000000</td>\n",
       "      <td>203501.000000</td>\n",
       "      <td>3.000000</td>\n",
       "      <td>90.000000</td>\n",
       "      <td>4.000000</td>\n",
       "      <td>2.000000</td>\n",
       "      <td>67.000000</td>\n",
       "      <td>41.000000</td>\n",
       "      <td>30.000000</td>\n",
       "      <td>14.000000</td>\n",
       "      <td>10.000000</td>\n",
       "      <td>3.000000</td>\n",
       "      <td>5.000000</td>\n",
       "      <td>2.000000</td>\n",
       "      <td>3.000000</td>\n",
       "      <td>69.000000</td>\n",
       "      <td>42.000000</td>\n",
       "      <td>26.000000</td>\n",
       "      <td>12.000000</td>\n",
       "      <td>10.000000</td>\n",
       "      <td>4.000000</td>\n",
       "      <td>8.000000</td>\n",
       "      <td>290.000000</td>\n",
       "      <td>167.000000</td>\n",
       "      <td>323.000000</td>\n",
       "      <td>139.000000</td>\n",
       "    </tr>\n",
       "    <tr>\n",
       "      <th>75%</th>\n",
       "      <td>213550.000000</td>\n",
       "      <td>214229.000000</td>\n",
       "      <td>3.000000</td>\n",
       "      <td>90.000000</td>\n",
       "      <td>4.000000</td>\n",
       "      <td>2.000000</td>\n",
       "      <td>67.000000</td>\n",
       "      <td>41.000000</td>\n",
       "      <td>30.000000</td>\n",
       "      <td>14.000000</td>\n",
       "      <td>10.000000</td>\n",
       "      <td>3.000000</td>\n",
       "      <td>5.000000</td>\n",
       "      <td>2.000000</td>\n",
       "      <td>3.000000</td>\n",
       "      <td>69.000000</td>\n",
       "      <td>42.000000</td>\n",
       "      <td>26.000000</td>\n",
       "      <td>12.000000</td>\n",
       "      <td>10.000000</td>\n",
       "      <td>4.000000</td>\n",
       "      <td>8.000000</td>\n",
       "      <td>514.000000</td>\n",
       "      <td>403.000000</td>\n",
       "      <td>557.000000</td>\n",
       "      <td>307.000000</td>\n",
       "    </tr>\n",
       "    <tr>\n",
       "      <th>max</th>\n",
       "      <td>245099.000000</td>\n",
       "      <td>245099.000000</td>\n",
       "      <td>5.000000</td>\n",
       "      <td>4756.000000</td>\n",
       "      <td>72.000000</td>\n",
       "      <td>114.000000</td>\n",
       "      <td>1957.000000</td>\n",
       "      <td>1330.000000</td>\n",
       "      <td>836.000000</td>\n",
       "      <td>304.000000</td>\n",
       "      <td>49.000000</td>\n",
       "      <td>209.000000</td>\n",
       "      <td>266.000000</td>\n",
       "      <td>67.000000</td>\n",
       "      <td>114.000000</td>\n",
       "      <td>1672.000000</td>\n",
       "      <td>893.000000</td>\n",
       "      <td>532.000000</td>\n",
       "      <td>399.000000</td>\n",
       "      <td>50.000000</td>\n",
       "      <td>120.000000</td>\n",
       "      <td>190.000000</td>\n",
       "      <td>2220.000000</td>\n",
       "      <td>16790.000000</td>\n",
       "      <td>2257.000000</td>\n",
       "      <td>16790.000000</td>\n",
       "    </tr>\n",
       "  </tbody>\n",
       "</table>\n",
       "</div>"
      ],
      "text/plain": [
       "           winner_id       loser_id        best_of        minutes  \\\n",
       "count  161817.000000  161817.000000  161817.000000  161817.000000   \n",
       "mean   176180.824963  177877.241056       3.026462      93.369448   \n",
       "std     47318.475445   47492.694368       0.228526      28.752226   \n",
       "min    100644.000000  100644.000000       3.000000       0.000000   \n",
       "25%    111442.000000  111761.000000       3.000000      90.000000   \n",
       "50%    202659.000000  203501.000000       3.000000      90.000000   \n",
       "75%    213550.000000  214229.000000       3.000000      90.000000   \n",
       "max    245099.000000  245099.000000       5.000000    4756.000000   \n",
       "\n",
       "               w_ace           w_df         w_svpt        w_1stIn  \\\n",
       "count  161817.000000  161817.000000  161817.000000  161817.000000   \n",
       "mean        4.383940       2.396269      68.817250      42.398394   \n",
       "std         3.003731       1.714819      17.477927      11.643169   \n",
       "min         0.000000       0.000000       0.000000       0.000000   \n",
       "25%         4.000000       2.000000      67.000000      41.000000   \n",
       "50%         4.000000       2.000000      67.000000      41.000000   \n",
       "75%         4.000000       2.000000      67.000000      41.000000   \n",
       "max        72.000000     114.000000    1957.000000    1330.000000   \n",
       "\n",
       "            w_1stWon       w_2ndWon        w_SvGms      w_bpSaved  \\\n",
       "count  161817.000000  161817.000000  161817.000000  161817.000000   \n",
       "mean       30.921047      14.192656      10.537613       3.240716   \n",
       "std         7.793488       4.044479       2.335307       2.151168   \n",
       "min         0.000000       0.000000       0.000000       0.000000   \n",
       "25%        30.000000      14.000000      10.000000       3.000000   \n",
       "50%        30.000000      14.000000      10.000000       3.000000   \n",
       "75%        30.000000      14.000000      10.000000       3.000000   \n",
       "max       836.000000     304.000000      49.000000     209.000000   \n",
       "\n",
       "           w_bpFaced          l_ace           l_df         l_svpt  \\\n",
       "count  161817.000000  161817.000000  161817.000000  161817.000000   \n",
       "mean        5.165205       2.729892       3.278061      70.948955   \n",
       "std         2.894098       2.728868       1.815578      17.077674   \n",
       "min         0.000000       0.000000       0.000000       0.000000   \n",
       "25%         5.000000       2.000000       3.000000      69.000000   \n",
       "50%         5.000000       2.000000       3.000000      69.000000   \n",
       "75%         5.000000       2.000000       3.000000      69.000000   \n",
       "max       266.000000      67.000000     114.000000    1672.000000   \n",
       "\n",
       "             l_1stIn       l_1stWon       l_2ndWon        l_SvGms  \\\n",
       "count  161817.000000  161817.000000  161817.000000  161817.000000   \n",
       "mean       43.059320      26.891260      12.317519      10.458728   \n",
       "std        11.464941       8.387957       4.322846       2.313238   \n",
       "min         0.000000       0.000000       0.000000       0.000000   \n",
       "25%        42.000000      26.000000      12.000000      10.000000   \n",
       "50%        42.000000      26.000000      12.000000      10.000000   \n",
       "75%        42.000000      26.000000      12.000000      10.000000   \n",
       "max       893.000000     532.000000     399.000000      50.000000   \n",
       "\n",
       "           l_bpSaved      l_bpFaced    winner_rank  winner_rank_points  \\\n",
       "count  161817.000000  161817.000000  161817.000000       161817.000000   \n",
       "mean        4.296224       8.374689     366.795466          439.095725   \n",
       "std         2.183499       2.752985     293.355661          971.016462   \n",
       "min         0.000000       0.000000       1.000000            1.000000   \n",
       "25%         4.000000       8.000000     147.000000           59.000000   \n",
       "50%         4.000000       8.000000     290.000000          167.000000   \n",
       "75%         4.000000       8.000000     514.000000          403.000000   \n",
       "max       120.000000     190.000000    2220.000000        16790.000000   \n",
       "\n",
       "          loser_rank  loser_rank_points  \n",
       "count  161817.000000      161817.000000  \n",
       "mean      413.543293         319.972401  \n",
       "std       326.192197         642.418828  \n",
       "min         1.000000           1.000000  \n",
       "25%       186.000000          50.000000  \n",
       "50%       323.000000         139.000000  \n",
       "75%       557.000000         307.000000  \n",
       "max      2257.000000       16790.000000  "
      ]
     },
     "execution_count": 27,
     "metadata": {},
     "output_type": "execute_result"
    }
   ],
   "source": [
    "match.describe()"
   ]
  },
  {
   "cell_type": "code",
   "execution_count": 28,
   "id": "7980e9e9-8737-4dd0-a1ef-3b2001bd29d1",
   "metadata": {},
   "outputs": [
    {
     "data": {
      "text/plain": [
       "tourney_id            0\n",
       "match_id              0\n",
       "winner_id             0\n",
       "loser_id              0\n",
       "score                 0\n",
       "best_of               0\n",
       "round                 0\n",
       "minutes               0\n",
       "w_ace                 0\n",
       "w_df                  0\n",
       "w_svpt                0\n",
       "w_1stIn               0\n",
       "w_1stWon              0\n",
       "w_2ndWon              0\n",
       "w_SvGms               0\n",
       "w_bpSaved             0\n",
       "w_bpFaced             0\n",
       "l_ace                 0\n",
       "l_df                  0\n",
       "l_svpt                0\n",
       "l_1stIn               0\n",
       "l_1stWon              0\n",
       "l_2ndWon              0\n",
       "l_SvGms               0\n",
       "l_bpSaved             0\n",
       "l_bpFaced             0\n",
       "winner_rank           0\n",
       "winner_rank_points    0\n",
       "loser_rank            0\n",
       "loser_rank_points     0\n",
       "dtype: int64"
      ]
     },
     "execution_count": 28,
     "metadata": {},
     "output_type": "execute_result"
    }
   ],
   "source": [
    "match.isna().sum()"
   ]
  },
  {
   "cell_type": "code",
   "execution_count": 29,
   "id": "0d075a29-a6f4-47ab-8f40-9a2558ee5de8",
   "metadata": {},
   "outputs": [
    {
     "data": {
      "text/plain": [
       "Index(['tourney_id', 'match_id', 'winner_id', 'loser_id', 'score', 'best_of',\n",
       "       'round', 'minutes', 'w_ace', 'w_df', 'w_svpt', 'w_1stIn', 'w_1stWon',\n",
       "       'w_2ndWon', 'w_SvGms', 'w_bpSaved', 'w_bpFaced', 'l_ace', 'l_df',\n",
       "       'l_svpt', 'l_1stIn', 'l_1stWon', 'l_2ndWon', 'l_SvGms', 'l_bpSaved',\n",
       "       'l_bpFaced', 'winner_rank', 'winner_rank_points', 'loser_rank',\n",
       "       'loser_rank_points'],\n",
       "      dtype='object')"
      ]
     },
     "execution_count": 29,
     "metadata": {},
     "output_type": "execute_result"
    }
   ],
   "source": [
    "match.columns"
   ]
  },
  {
   "cell_type": "code",
   "execution_count": 30,
   "id": "8acb9e9d-fab3-4c33-8fa5-76f8a084aac5",
   "metadata": {},
   "outputs": [],
   "source": [
    "match.fillna(value={'score':match['score'].mode()[0]}, inplace=True)\n",
    "colsToFill = match.columns[7:]\n",
    "for col in colsToFill:\n",
    "    match.fillna(value={col:match[col].median()}, inplace=True)\n",
    "    \n",
    "#ci sono alcuni match che durano 0 minuti ma sono completi (no W/O e no RET). Impossibile"
   ]
  },
  {
   "cell_type": "code",
   "execution_count": 31,
   "id": "1370bd9f-d7dd-41f6-8e14-f825344feab8",
   "metadata": {},
   "outputs": [],
   "source": [
    "# Controllo se tra gli attributi non numerici se ci sono delle stringhe non regolari:\n",
    "# ie. nulle ma non nan, blank spaces o singoli caratteri\n",
    "#scopeStrLength(match['match_id'],13)\n",
    "#scopeStrLength(match['tourney_id'],10)\n",
    "#scopeStrLength(match['score'],7)\n",
    "#match['round'].value_counts()"
   ]
  },
  {
   "cell_type": "markdown",
   "id": "b1f231df-2c05-4db5-a4ae-2302b29c4a4f",
   "metadata": {},
   "source": [
    "### Geography Tab\n",
    "Abbiamo importato due ulteriori csv files per derivare i continenti e le lingue che hanno avevano un valore. Ulteriori valori rimanenti sono stati corretti selettivamente."
   ]
  },
  {
   "cell_type": "code",
   "execution_count": 32,
   "id": "5d44b453-9728-4992-a72a-39239313616a",
   "metadata": {},
   "outputs": [
    {
     "data": {
      "text/plain": [
       "(154, 3)"
      ]
     },
     "execution_count": 32,
     "metadata": {},
     "output_type": "execute_result"
    }
   ],
   "source": [
    "geo.shape"
   ]
  },
  {
   "cell_type": "code",
   "execution_count": 33,
   "id": "a43fcf13-083a-4488-81f9-3d5aad10cdc3",
   "metadata": {},
   "outputs": [
    {
     "data": {
      "text/html": [
       "<div>\n",
       "<style scoped>\n",
       "    .dataframe tbody tr th:only-of-type {\n",
       "        vertical-align: middle;\n",
       "    }\n",
       "\n",
       "    .dataframe tbody tr th {\n",
       "        vertical-align: top;\n",
       "    }\n",
       "\n",
       "    .dataframe thead th {\n",
       "        text-align: right;\n",
       "    }\n",
       "</style>\n",
       "<table border=\"1\" class=\"dataframe\">\n",
       "  <thead>\n",
       "    <tr style=\"text-align: right;\">\n",
       "      <th></th>\n",
       "      <th>country_ioc</th>\n",
       "      <th>continent</th>\n",
       "      <th>language</th>\n",
       "    </tr>\n",
       "  </thead>\n",
       "  <tbody>\n",
       "    <tr>\n",
       "      <th>0</th>\n",
       "      <td>JPN</td>\n",
       "      <td>Asia</td>\n",
       "      <td>Japanese</td>\n",
       "    </tr>\n",
       "    <tr>\n",
       "      <th>1</th>\n",
       "      <td>RUS</td>\n",
       "      <td>Europe</td>\n",
       "      <td>Russian</td>\n",
       "    </tr>\n",
       "    <tr>\n",
       "      <th>2</th>\n",
       "      <td>FRA</td>\n",
       "      <td>Europe</td>\n",
       "      <td>French</td>\n",
       "    </tr>\n",
       "    <tr>\n",
       "      <th>3</th>\n",
       "      <td>AUS</td>\n",
       "      <td>Oceania</td>\n",
       "      <td>English</td>\n",
       "    </tr>\n",
       "    <tr>\n",
       "      <th>4</th>\n",
       "      <td>CAN</td>\n",
       "      <td>America</td>\n",
       "      <td>English</td>\n",
       "    </tr>\n",
       "  </tbody>\n",
       "</table>\n",
       "</div>"
      ],
      "text/plain": [
       "  country_ioc continent  language\n",
       "0         JPN      Asia  Japanese\n",
       "1         RUS    Europe   Russian\n",
       "2         FRA    Europe    French\n",
       "3         AUS   Oceania   English\n",
       "4         CAN   America   English"
      ]
     },
     "execution_count": 33,
     "metadata": {},
     "output_type": "execute_result"
    }
   ],
   "source": [
    "geo.head()"
   ]
  },
  {
   "cell_type": "code",
   "execution_count": 34,
   "id": "491afa1d-994d-4d20-9662-535b64042fc7",
   "metadata": {},
   "outputs": [
    {
     "name": "stdout",
     "output_type": "stream",
     "text": [
      "<class 'pandas.core.frame.DataFrame'>\n",
      "RangeIndex: 154 entries, 0 to 153\n",
      "Data columns (total 3 columns):\n",
      " #   Column       Non-Null Count  Dtype \n",
      "---  ------       --------------  ----- \n",
      " 0   country_ioc  154 non-null    object\n",
      " 1   continent    154 non-null    object\n",
      " 2   language     154 non-null    object\n",
      "dtypes: object(3)\n",
      "memory usage: 3.7+ KB\n"
     ]
    }
   ],
   "source": [
    "geo.info()"
   ]
  },
  {
   "cell_type": "markdown",
   "id": "4bc8bb93-ed4a-4eee-9381-80b67e2bb1d9",
   "metadata": {},
   "source": [
    "#### sostituzione dei continenti mancanti\n",
    "https://pkgstore.datahub.io/JohnSnowLabs/country-and-continent-codes-list/country-and-continent-codes-list-csv_csv/data/b7876b7f496677669644f3d1069d3121/country-and-continent-codes-list-csv_csv.csv"
   ]
  },
  {
   "cell_type": "code",
   "execution_count": 35,
   "id": "203cd8ac-2522-4827-a3ea-5b23f21c2d75",
   "metadata": {},
   "outputs": [],
   "source": [
    "# Cancello il continente 'unknown' e lo rendo nullo\n",
    "geo['continent'].replace('Unknown',np.NaN,inplace=True)"
   ]
  },
  {
   "cell_type": "code",
   "execution_count": 36,
   "id": "9c2acedc-1f61-499d-ac48-3de0f84e8312",
   "metadata": {},
   "outputs": [],
   "source": [
    "cont = pd.read_csv(PATH_CONTINENT)\n",
    "cont = cont[[\"Three_Letter_Country_Code\",\"Continent_Name\"]]\n",
    "cont['Continent_Name'] = cont['Continent_Name'].replace({'North America': 'America','South America':'America'}, regex=True)\n",
    "cont.drop_duplicates(subset=['Three_Letter_Country_Code'], keep='last',inplace=True)"
   ]
  },
  {
   "cell_type": "code",
   "execution_count": 37,
   "id": "4e07d46c-fcb2-40b9-bd6d-14d87f6bf15d",
   "metadata": {},
   "outputs": [],
   "source": [
    "geo=geo.merge(cont,how='left',left_on='country_ioc',right_on='Three_Letter_Country_Code')"
   ]
  },
  {
   "cell_type": "code",
   "execution_count": 38,
   "id": "127dcefe-745f-4044-a74d-dd5d61a81732",
   "metadata": {},
   "outputs": [],
   "source": [
    "geo['continent'].fillna(geo['Continent_Name'],inplace=True)\n",
    "geo['continent'].fillna('Africa',inplace=True)\n",
    "del geo['Continent_Name']\n",
    "del geo[\"Three_Letter_Country_Code\"]"
   ]
  },
  {
   "cell_type": "code",
   "execution_count": 39,
   "id": "19a7909c-2362-447d-93cd-306c9fdffd6e",
   "metadata": {},
   "outputs": [
    {
     "data": {
      "text/plain": [
       "Europe     52\n",
       "Africa     34\n",
       "Asia       33\n",
       "America    30\n",
       "Oceania     5\n",
       "Name: continent, dtype: int64"
      ]
     },
     "execution_count": 39,
     "metadata": {},
     "output_type": "execute_result"
    }
   ],
   "source": [
    "geo['continent'].value_counts()"
   ]
  },
  {
   "cell_type": "markdown",
   "id": "4820b672-c3b0-4bce-b816-0c0bbfe1a017",
   "metadata": {},
   "source": [
    "#### sostituzione delle lingue mancanti\n",
    "https://github.com/vijinho/ISO-Country-Data/blob/master/languages.csv"
   ]
  },
  {
   "cell_type": "code",
   "execution_count": 40,
   "id": "ca0ac51c-eb8f-416b-b2a0-5921222c8572",
   "metadata": {},
   "outputs": [],
   "source": [
    "lang = pd.read_csv(PATH_LANG_2)\n",
    "lang = lang[[\"alpha3\",\"name\"]]\n",
    "lang['alpha3']=lang['alpha3'].str.upper()\n",
    "lang = lang[~lang['alpha3'].isna()]\n",
    "lang.drop_duplicates(subset=['alpha3'], keep='last', inplace=True)"
   ]
  },
  {
   "cell_type": "code",
   "execution_count": 41,
   "id": "093ca3ba-a110-4861-a82d-72cec277f384",
   "metadata": {},
   "outputs": [],
   "source": [
    "geo=geo.merge(lang,how='left',left_on='country_ioc',right_on='alpha3')"
   ]
  },
  {
   "cell_type": "code",
   "execution_count": 42,
   "id": "b5456148-157a-4fc0-bfd5-a64c9a34465c",
   "metadata": {},
   "outputs": [],
   "source": [
    "# Sostituisco le lingue mancanti prendendole dal csv importato\n",
    "geo['language'].fillna(geo['name'],inplace=True)\n",
    "del geo['alpha3']\n",
    "del geo['name']"
   ]
  },
  {
   "cell_type": "code",
   "execution_count": 43,
   "id": "e7c5af0f-dde9-4438-81f8-d7a9b321611f",
   "metadata": {},
   "outputs": [],
   "source": [
    "# Le lingue residue le correggo manualmente\n",
    "geo.loc[geo.country_ioc == 'RUS', 'language'] = 'Russian'\n",
    "geo.loc[geo.country_ioc == 'FRA', 'language'] = 'French'\n",
    "geo.loc[geo.country_ioc == 'URU', 'language'] = 'Spanish'\n",
    "geo.loc[geo.country_ioc == 'CUB', 'language'] = 'Spanish'\n",
    "geo.loc[geo.country_ioc == 'CAN', 'language'] = 'English'\n",
    "geo.loc[geo.country_ioc == 'USA', 'language'] = 'English'\n",
    "geo.loc[geo.country_ioc == 'GBR', 'language'] = 'English'\n",
    "geo.loc[(geo.continent == 'Africa') & (geo.language == ' '), 'language'] = 'Arabic'\n",
    "geo.loc[(geo.continent == 'Africa') & (geo.language.isnull()),'language'] = 'Arabic'\n",
    "geo.loc[(geo.language.isnull()) | (geo.language == ' '), 'language'] = 'English'"
   ]
  },
  {
   "cell_type": "code",
   "execution_count": null,
   "id": "52bedb5a-b052-4f7e-8d8c-a6228104fb1d",
   "metadata": {},
   "outputs": [],
   "source": []
  },
  {
   "cell_type": "code",
   "execution_count": 44,
   "id": "c385658b-9096-402c-b019-b863308db0e4",
   "metadata": {
    "tags": []
   },
   "outputs": [],
   "source": [
    "# Rieseguo il casting perchè abbiamo notato che la pd.read_csv cambia i tipi (da int a float) precedentemente settati\n",
    "match = match.astype(MATCH_FEAT_TYPE)\n",
    "tourn = tourn.astype(TOURN_FEAT_TYPE)\n",
    "date = date.astype(DATE_FEAT_TYPE)\n",
    "player = player.astype(PLAYER_FEAT_TYPE)\n",
    "geo = geo.astype(GEO_FEAT_TYPE)"
   ]
  },
  {
   "cell_type": "code",
   "execution_count": null,
   "id": "d09ca6b0-bb9d-45cb-a696-3fada6be851b",
   "metadata": {},
   "outputs": [],
   "source": []
  },
  {
   "cell_type": "code",
   "execution_count": 45,
   "id": "e6f22e2b-ba30-4d23-857c-c50cde2380eb",
   "metadata": {},
   "outputs": [],
   "source": [
    "tourn.to_csv(\"./tourn.csv\", index=False)\n",
    "date.to_csv(\"./date.csv\", index=False)"
   ]
  },
  {
   "cell_type": "code",
   "execution_count": 46,
   "id": "b8b239a9-b20c-4823-9f23-64eafaa90817",
   "metadata": {},
   "outputs": [],
   "source": [
    "t = pd.read_csv(\"./tourn.csv\")\n",
    "d = pd.read_csv(\"./date.csv\")"
   ]
  },
  {
   "cell_type": "code",
   "execution_count": 49,
   "id": "c30b72f0-0d13-42ad-a036-a0ff371101fa",
   "metadata": {},
   "outputs": [
    {
     "data": {
      "text/plain": [
       "0"
      ]
     },
     "execution_count": 49,
     "metadata": {},
     "output_type": "execute_result"
    }
   ],
   "source": [
    "d['date_id'].isna().sum()"
   ]
  },
  {
   "cell_type": "code",
   "execution_count": 291,
   "id": "e1e3dc5d-ee8e-4d3e-90d3-bdba77d59f71",
   "metadata": {},
   "outputs": [],
   "source": [
    "a = set(t['date_id'])\n",
    "b = set(d['date_id'])"
   ]
  },
  {
   "cell_type": "code",
   "execution_count": 292,
   "id": "097b6db5-c17b-42ba-a6e0-9768056b7b34",
   "metadata": {},
   "outputs": [
    {
     "data": {
      "text/plain": [
       "True"
      ]
     },
     "execution_count": 292,
     "metadata": {},
     "output_type": "execute_result"
    }
   ],
   "source": [
    "a==b"
   ]
  },
  {
   "cell_type": "code",
   "execution_count": null,
   "id": "399c54ec-70c7-439b-8c88-aed07034f6e8",
   "metadata": {},
   "outputs": [],
   "source": [
    "\n"
   ]
  },
  {
   "cell_type": "code",
   "execution_count": 294,
   "id": "0eeb9003-77eb-4dbe-8558-ddc7f37b0d04",
   "metadata": {},
   "outputs": [],
   "source": [
    "player.to_csv(\"./player.csv\", index=False)\n",
    "geo.to_csv(\"./geo.csv\", index=False)"
   ]
  },
  {
   "cell_type": "code",
   "execution_count": 295,
   "id": "1797194d-44cb-4d3b-b8b7-0f235fbb2299",
   "metadata": {},
   "outputs": [],
   "source": [
    "p = pd.read_csv(\"./player.csv\")\n",
    "g = pd.read_csv(\"./geo.csv\")"
   ]
  },
  {
   "cell_type": "code",
   "execution_count": 296,
   "id": "d9d9bd26-5fac-4d01-af4d-afc9d554a7d0",
   "metadata": {},
   "outputs": [],
   "source": [
    "a = set(p['country_id'])\n",
    "b = set(g['country_ioc'])"
   ]
  },
  {
   "cell_type": "code",
   "execution_count": 297,
   "id": "824bc354-a72f-4741-a9c0-e1510bb4295b",
   "metadata": {},
   "outputs": [
    {
     "data": {
      "text/plain": [
       "True"
      ]
     },
     "execution_count": 297,
     "metadata": {},
     "output_type": "execute_result"
    }
   ],
   "source": [
    "a==b"
   ]
  },
  {
   "cell_type": "code",
   "execution_count": null,
   "id": "6510f0f8-df3a-401f-8ffa-bb31ac86dcbc",
   "metadata": {},
   "outputs": [],
   "source": []
  }
 ],
 "metadata": {
  "kernelspec": {
   "display_name": "Python 3",
   "language": "python",
   "name": "python3"
  },
  "language_info": {
   "codemirror_mode": {
    "name": "ipython",
    "version": 3
   },
   "file_extension": ".py",
   "mimetype": "text/x-python",
   "name": "python",
   "nbconvert_exporter": "python",
   "pygments_lexer": "ipython3",
   "version": "3.8.8"
  }
 },
 "nbformat": 4,
 "nbformat_minor": 5
}
